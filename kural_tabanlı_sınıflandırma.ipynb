{
 "cells": [
  {
   "cell_type": "markdown",
   "id": "722da78c-b4d6-4c24-a560-58f1fab21a3e",
   "metadata": {},
   "source": [
    "Kural Tabanlı Sınıflandırma"
   ]
  },
  {
   "cell_type": "markdown",
   "id": "03b46670-306f-4533-85ec-0e54901bdfda",
   "metadata": {},
   "source": [
    "Gerekli Kütüphanelerin Yüklenmesi"
   ]
  },
  {
   "cell_type": "code",
   "execution_count": 189,
   "id": "c6f4bb12-013a-4dec-a41b-b57edc600ef4",
   "metadata": {},
   "outputs": [],
   "source": [
    "import pandas as pd\n",
    "import seaborn as sns\n",
    "from matplotlib import pyplot as plt\n",
    "import numpy as np"
   ]
  },
  {
   "cell_type": "markdown",
   "id": "a9c40f82-fb2a-4567-9cdb-e0aa5f02d8a2",
   "metadata": {},
   "source": [
    "Çıktı Genişliğinin Ayarlanması"
   ]
  },
  {
   "cell_type": "code",
   "execution_count": 190,
   "id": "5d70a25c-03a5-4548-8850-b8d3e45a5139",
   "metadata": {},
   "outputs": [],
   "source": [
    "pd.set_option('display.max_columns',None)\n",
    "pd.set_option('display.width',500)"
   ]
  },
  {
   "cell_type": "markdown",
   "id": "42fcf4f2-a2a8-4a80-a53e-6d8e78496f37",
   "metadata": {},
   "source": [
    "Veri Setinin Yüklenmesi ve İncelenmesi"
   ]
  },
  {
   "cell_type": "code",
   "execution_count": 191,
   "id": "6ff1223d-229f-41f8-9f55-9b22b353eeda",
   "metadata": {},
   "outputs": [
    {
     "name": "stdout",
     "output_type": "stream",
     "text": [
      "<class 'pandas.core.frame.DataFrame'>\n",
      "Index: 5000 entries, 0 to 4999\n",
      "Data columns (total 5 columns):\n",
      " #   Column   Non-Null Count  Dtype \n",
      "---  ------   --------------  ----- \n",
      " 0   PRICE    5000 non-null   int64 \n",
      " 1   SOURCE   5000 non-null   object\n",
      " 2   SEX      5000 non-null   object\n",
      " 3   COUNTRY  5000 non-null   object\n",
      " 4   AGE      5000 non-null   int64 \n",
      "dtypes: int64(2), object(3)\n",
      "memory usage: 234.4+ KB\n"
     ]
    },
    {
     "data": {
      "text/plain": [
       "(5000, 5)"
      ]
     },
     "execution_count": 191,
     "metadata": {},
     "output_type": "execute_result"
    }
   ],
   "source": [
    "df = pd.read_csv('datasets/persona.csv')\n",
    "df.head(10)\n",
    "df.info()\n",
    "df.shape"
   ]
  },
  {
   "cell_type": "markdown",
   "id": "363fc5ca-e1b8-43e9-9737-9398e85c81a3",
   "metadata": {},
   "source": [
    "GÖREV 1"
   ]
  },
  {
   "cell_type": "markdown",
   "id": "222d5628-255f-4ee0-896c-9ada3a56ad39",
   "metadata": {},
   "source": [
    "Kaç unique source vardır,frekansları nelerdir ?"
   ]
  },
  {
   "cell_type": "code",
   "execution_count": 192,
   "id": "d57f7ca1-60dc-4c23-9693-79db9643fa3e",
   "metadata": {},
   "outputs": [
    {
     "data": {
      "text/plain": [
       "SOURCE\n",
       "android    2974\n",
       "ios        2026\n",
       "Name: count, dtype: int64"
      ]
     },
     "execution_count": 192,
     "metadata": {},
     "output_type": "execute_result"
    }
   ],
   "source": [
    "df['SOURCE'].nunique()\n",
    "df['SOURCE'].value_counts()"
   ]
  },
  {
   "cell_type": "markdown",
   "id": "dc4c8afe-7e0c-47b6-9d27-a6b21df165f7",
   "metadata": {},
   "source": [
    "Kaç unique price vardır ?"
   ]
  },
  {
   "cell_type": "code",
   "execution_count": 193,
   "id": "fbc65b57-3051-4019-9971-38b2105f3a2b",
   "metadata": {},
   "outputs": [
    {
     "data": {
      "text/plain": [
       "6"
      ]
     },
     "execution_count": 193,
     "metadata": {},
     "output_type": "execute_result"
    }
   ],
   "source": [
    "df['PRICE'].nunique()"
   ]
  },
  {
   "cell_type": "markdown",
   "id": "7c2c2bfb-1d21-4914-993e-5f2189059cc8",
   "metadata": {},
   "source": [
    "Hangi PRICE'dan kaçar tane satış gerçekleştirilmiştir ?"
   ]
  },
  {
   "cell_type": "code",
   "execution_count": 194,
   "id": "484ccd5d-692e-41d7-b16d-30560a86c443",
   "metadata": {},
   "outputs": [
    {
     "data": {
      "text/plain": [
       "PRICE\n",
       "29    1305\n",
       "39    1260\n",
       "49    1031\n",
       "19     992\n",
       "59     212\n",
       "9      200\n",
       "Name: count, dtype: int64"
      ]
     },
     "execution_count": 194,
     "metadata": {},
     "output_type": "execute_result"
    }
   ],
   "source": [
    "df['PRICE'].value_counts()"
   ]
  },
  {
   "cell_type": "markdown",
   "id": "ec1c19fc-7627-4f91-ac8c-7bd02f955227",
   "metadata": {},
   "source": [
    "Hangi Ülkeden kaçar tane satış gerçekleştirilmiştir ?"
   ]
  },
  {
   "cell_type": "code",
   "execution_count": 195,
   "id": "06a0c996-3f45-411a-a5fb-3c4460cf0300",
   "metadata": {},
   "outputs": [
    {
     "data": {
      "text/plain": [
       "COUNTRY\n",
       "usa    2065\n",
       "bra    1496\n",
       "deu     455\n",
       "tur     451\n",
       "fra     303\n",
       "can     230\n",
       "Name: count, dtype: int64"
      ]
     },
     "execution_count": 195,
     "metadata": {},
     "output_type": "execute_result"
    }
   ],
   "source": [
    "df['COUNTRY'].value_counts()"
   ]
  },
  {
   "cell_type": "markdown",
   "id": "2d798e65-1b65-4891-951f-b012908267b0",
   "metadata": {},
   "source": [
    "Ülkelere göre Satışlardan toplam ne kadar kazanılmış ?"
   ]
  },
  {
   "cell_type": "code",
   "execution_count": 196,
   "id": "5e766677-2b9c-4ce0-a6c0-9e10500fbb44",
   "metadata": {},
   "outputs": [
    {
     "data": {
      "text/html": [
       "<div>\n",
       "<style scoped>\n",
       "    .dataframe tbody tr th:only-of-type {\n",
       "        vertical-align: middle;\n",
       "    }\n",
       "\n",
       "    .dataframe tbody tr th {\n",
       "        vertical-align: top;\n",
       "    }\n",
       "\n",
       "    .dataframe thead th {\n",
       "        text-align: right;\n",
       "    }\n",
       "</style>\n",
       "<table border=\"1\" class=\"dataframe\">\n",
       "  <thead>\n",
       "    <tr style=\"text-align: right;\">\n",
       "      <th></th>\n",
       "      <th>PRICE</th>\n",
       "    </tr>\n",
       "    <tr>\n",
       "      <th>COUNTRY</th>\n",
       "      <th></th>\n",
       "    </tr>\n",
       "  </thead>\n",
       "  <tbody>\n",
       "    <tr>\n",
       "      <th>bra</th>\n",
       "      <td>51354</td>\n",
       "    </tr>\n",
       "    <tr>\n",
       "      <th>can</th>\n",
       "      <td>7730</td>\n",
       "    </tr>\n",
       "    <tr>\n",
       "      <th>deu</th>\n",
       "      <td>15485</td>\n",
       "    </tr>\n",
       "    <tr>\n",
       "      <th>fra</th>\n",
       "      <td>10177</td>\n",
       "    </tr>\n",
       "    <tr>\n",
       "      <th>tur</th>\n",
       "      <td>15689</td>\n",
       "    </tr>\n",
       "    <tr>\n",
       "      <th>usa</th>\n",
       "      <td>70225</td>\n",
       "    </tr>\n",
       "  </tbody>\n",
       "</table>\n",
       "</div>"
      ],
      "text/plain": [
       "         PRICE\n",
       "COUNTRY       \n",
       "bra      51354\n",
       "can       7730\n",
       "deu      15485\n",
       "fra      10177\n",
       "tur      15689\n",
       "usa      70225"
      ]
     },
     "execution_count": 196,
     "metadata": {},
     "output_type": "execute_result"
    }
   ],
   "source": [
    "df.groupby('COUNTRY').agg({\"PRICE\" : \"sum\"})"
   ]
  },
  {
   "cell_type": "markdown",
   "id": "757f1f66-24b2-49a8-89fa-1c8a2e64da74",
   "metadata": {},
   "source": [
    "SOURCE türlerine göre satış sayıları nedir ?"
   ]
  },
  {
   "cell_type": "code",
   "execution_count": 197,
   "id": "dcdc577c-bace-4a77-acd8-5c7b9976c39f",
   "metadata": {},
   "outputs": [
    {
     "data": {
      "text/html": [
       "<div>\n",
       "<style scoped>\n",
       "    .dataframe tbody tr th:only-of-type {\n",
       "        vertical-align: middle;\n",
       "    }\n",
       "\n",
       "    .dataframe tbody tr th {\n",
       "        vertical-align: top;\n",
       "    }\n",
       "\n",
       "    .dataframe thead th {\n",
       "        text-align: right;\n",
       "    }\n",
       "</style>\n",
       "<table border=\"1\" class=\"dataframe\">\n",
       "  <thead>\n",
       "    <tr style=\"text-align: right;\">\n",
       "      <th></th>\n",
       "      <th>PRICE</th>\n",
       "    </tr>\n",
       "    <tr>\n",
       "      <th>SOURCE</th>\n",
       "      <th></th>\n",
       "    </tr>\n",
       "  </thead>\n",
       "  <tbody>\n",
       "    <tr>\n",
       "      <th>android</th>\n",
       "      <td>2974</td>\n",
       "    </tr>\n",
       "    <tr>\n",
       "      <th>ios</th>\n",
       "      <td>2026</td>\n",
       "    </tr>\n",
       "  </tbody>\n",
       "</table>\n",
       "</div>"
      ],
      "text/plain": [
       "         PRICE\n",
       "SOURCE        \n",
       "android   2974\n",
       "ios       2026"
      ]
     },
     "execution_count": 197,
     "metadata": {},
     "output_type": "execute_result"
    }
   ],
   "source": [
    "df.groupby('SOURCE').agg({\"PRICE\" : \"count\"})"
   ]
  },
  {
   "cell_type": "markdown",
   "id": "79513d47-3618-4ee7-bc71-7eacb288d46f",
   "metadata": {},
   "source": [
    "Ülkelere göre PRICE ortalamaları nedir ?"
   ]
  },
  {
   "cell_type": "code",
   "execution_count": 198,
   "id": "e745c231-5c2d-4e4e-a5c9-757041c70a7d",
   "metadata": {},
   "outputs": [
    {
     "data": {
      "text/html": [
       "<div>\n",
       "<style scoped>\n",
       "    .dataframe tbody tr th:only-of-type {\n",
       "        vertical-align: middle;\n",
       "    }\n",
       "\n",
       "    .dataframe tbody tr th {\n",
       "        vertical-align: top;\n",
       "    }\n",
       "\n",
       "    .dataframe thead th {\n",
       "        text-align: right;\n",
       "    }\n",
       "</style>\n",
       "<table border=\"1\" class=\"dataframe\">\n",
       "  <thead>\n",
       "    <tr style=\"text-align: right;\">\n",
       "      <th></th>\n",
       "      <th>PRICE</th>\n",
       "    </tr>\n",
       "    <tr>\n",
       "      <th>COUNTRY</th>\n",
       "      <th></th>\n",
       "    </tr>\n",
       "  </thead>\n",
       "  <tbody>\n",
       "    <tr>\n",
       "      <th>bra</th>\n",
       "      <td>34.327540</td>\n",
       "    </tr>\n",
       "    <tr>\n",
       "      <th>can</th>\n",
       "      <td>33.608696</td>\n",
       "    </tr>\n",
       "    <tr>\n",
       "      <th>deu</th>\n",
       "      <td>34.032967</td>\n",
       "    </tr>\n",
       "    <tr>\n",
       "      <th>fra</th>\n",
       "      <td>33.587459</td>\n",
       "    </tr>\n",
       "    <tr>\n",
       "      <th>tur</th>\n",
       "      <td>34.787140</td>\n",
       "    </tr>\n",
       "    <tr>\n",
       "      <th>usa</th>\n",
       "      <td>34.007264</td>\n",
       "    </tr>\n",
       "  </tbody>\n",
       "</table>\n",
       "</div>"
      ],
      "text/plain": [
       "             PRICE\n",
       "COUNTRY           \n",
       "bra      34.327540\n",
       "can      33.608696\n",
       "deu      34.032967\n",
       "fra      33.587459\n",
       "tur      34.787140\n",
       "usa      34.007264"
      ]
     },
     "execution_count": 198,
     "metadata": {},
     "output_type": "execute_result"
    }
   ],
   "source": [
    "df.groupby(\"COUNTRY\").agg({\"PRICE\" : \"mean\"})"
   ]
  },
  {
   "cell_type": "markdown",
   "id": "6904aa46-24f5-43b6-a504-d90e81de823b",
   "metadata": {},
   "source": [
    "SOURCE'lara göre PRICE ortalamaları nedir ?"
   ]
  },
  {
   "cell_type": "code",
   "execution_count": 199,
   "id": "b3f2d90e-7e20-4f4a-ac9f-b02092f1ee77",
   "metadata": {},
   "outputs": [
    {
     "data": {
      "text/html": [
       "<div>\n",
       "<style scoped>\n",
       "    .dataframe tbody tr th:only-of-type {\n",
       "        vertical-align: middle;\n",
       "    }\n",
       "\n",
       "    .dataframe tbody tr th {\n",
       "        vertical-align: top;\n",
       "    }\n",
       "\n",
       "    .dataframe thead th {\n",
       "        text-align: right;\n",
       "    }\n",
       "</style>\n",
       "<table border=\"1\" class=\"dataframe\">\n",
       "  <thead>\n",
       "    <tr style=\"text-align: right;\">\n",
       "      <th></th>\n",
       "      <th>PRICE</th>\n",
       "    </tr>\n",
       "    <tr>\n",
       "      <th>SOURCE</th>\n",
       "      <th></th>\n",
       "    </tr>\n",
       "  </thead>\n",
       "  <tbody>\n",
       "    <tr>\n",
       "      <th>android</th>\n",
       "      <td>34.174849</td>\n",
       "    </tr>\n",
       "    <tr>\n",
       "      <th>ios</th>\n",
       "      <td>34.069102</td>\n",
       "    </tr>\n",
       "  </tbody>\n",
       "</table>\n",
       "</div>"
      ],
      "text/plain": [
       "             PRICE\n",
       "SOURCE            \n",
       "android  34.174849\n",
       "ios      34.069102"
      ]
     },
     "execution_count": 199,
     "metadata": {},
     "output_type": "execute_result"
    }
   ],
   "source": [
    "df.groupby(\"SOURCE\").agg({\"PRICE\" : \"mean\"})"
   ]
  },
  {
   "cell_type": "markdown",
   "id": "1e6b816b-57f5-4d35-aa9b-8cbe63519933",
   "metadata": {},
   "source": [
    "COUNTRY - SOURCE kırılımında PRICE ortalamaları nedir ?"
   ]
  },
  {
   "cell_type": "code",
   "execution_count": 200,
   "id": "76828ed7-c4af-4b01-9b43-ab08fd3cdbfa",
   "metadata": {},
   "outputs": [
    {
     "data": {
      "text/html": [
       "<div>\n",
       "<style scoped>\n",
       "    .dataframe tbody tr th:only-of-type {\n",
       "        vertical-align: middle;\n",
       "    }\n",
       "\n",
       "    .dataframe tbody tr th {\n",
       "        vertical-align: top;\n",
       "    }\n",
       "\n",
       "    .dataframe thead th {\n",
       "        text-align: right;\n",
       "    }\n",
       "</style>\n",
       "<table border=\"1\" class=\"dataframe\">\n",
       "  <thead>\n",
       "    <tr style=\"text-align: right;\">\n",
       "      <th></th>\n",
       "      <th></th>\n",
       "      <th>PRICE</th>\n",
       "    </tr>\n",
       "    <tr>\n",
       "      <th>COUNTRY</th>\n",
       "      <th>SOURCE</th>\n",
       "      <th></th>\n",
       "    </tr>\n",
       "  </thead>\n",
       "  <tbody>\n",
       "    <tr>\n",
       "      <th rowspan=\"2\" valign=\"top\">bra</th>\n",
       "      <th>android</th>\n",
       "      <td>34.387029</td>\n",
       "    </tr>\n",
       "    <tr>\n",
       "      <th>ios</th>\n",
       "      <td>34.222222</td>\n",
       "    </tr>\n",
       "    <tr>\n",
       "      <th rowspan=\"2\" valign=\"top\">can</th>\n",
       "      <th>android</th>\n",
       "      <td>33.330709</td>\n",
       "    </tr>\n",
       "    <tr>\n",
       "      <th>ios</th>\n",
       "      <td>33.951456</td>\n",
       "    </tr>\n",
       "    <tr>\n",
       "      <th rowspan=\"2\" valign=\"top\">deu</th>\n",
       "      <th>android</th>\n",
       "      <td>33.869888</td>\n",
       "    </tr>\n",
       "    <tr>\n",
       "      <th>ios</th>\n",
       "      <td>34.268817</td>\n",
       "    </tr>\n",
       "    <tr>\n",
       "      <th rowspan=\"2\" valign=\"top\">fra</th>\n",
       "      <th>android</th>\n",
       "      <td>34.312500</td>\n",
       "    </tr>\n",
       "    <tr>\n",
       "      <th>ios</th>\n",
       "      <td>32.776224</td>\n",
       "    </tr>\n",
       "    <tr>\n",
       "      <th rowspan=\"2\" valign=\"top\">tur</th>\n",
       "      <th>android</th>\n",
       "      <td>36.229437</td>\n",
       "    </tr>\n",
       "    <tr>\n",
       "      <th>ios</th>\n",
       "      <td>33.272727</td>\n",
       "    </tr>\n",
       "    <tr>\n",
       "      <th rowspan=\"2\" valign=\"top\">usa</th>\n",
       "      <th>android</th>\n",
       "      <td>33.760357</td>\n",
       "    </tr>\n",
       "    <tr>\n",
       "      <th>ios</th>\n",
       "      <td>34.371703</td>\n",
       "    </tr>\n",
       "  </tbody>\n",
       "</table>\n",
       "</div>"
      ],
      "text/plain": [
       "                     PRICE\n",
       "COUNTRY SOURCE            \n",
       "bra     android  34.387029\n",
       "        ios      34.222222\n",
       "can     android  33.330709\n",
       "        ios      33.951456\n",
       "deu     android  33.869888\n",
       "        ios      34.268817\n",
       "fra     android  34.312500\n",
       "        ios      32.776224\n",
       "tur     android  36.229437\n",
       "        ios      33.272727\n",
       "usa     android  33.760357\n",
       "        ios      34.371703"
      ]
     },
     "execution_count": 200,
     "metadata": {},
     "output_type": "execute_result"
    }
   ],
   "source": [
    "df.groupby([\"COUNTRY\",\"SOURCE\"]).agg({\"PRICE\" : \"mean\"})"
   ]
  },
  {
   "cell_type": "markdown",
   "id": "36ea613e-decc-4e16-9af4-327563827a90",
   "metadata": {},
   "source": [
    "Görev 2: COUNTRY, SOURCE, SEX, AGE kırılımında ortalama kazançlar nedir?"
   ]
  },
  {
   "cell_type": "code",
   "execution_count": 201,
   "id": "75f69c15-edbc-4afb-a1c5-3d3ea7da16cb",
   "metadata": {},
   "outputs": [
    {
     "data": {
      "text/html": [
       "<div>\n",
       "<style scoped>\n",
       "    .dataframe tbody tr th:only-of-type {\n",
       "        vertical-align: middle;\n",
       "    }\n",
       "\n",
       "    .dataframe tbody tr th {\n",
       "        vertical-align: top;\n",
       "    }\n",
       "\n",
       "    .dataframe thead th {\n",
       "        text-align: right;\n",
       "    }\n",
       "</style>\n",
       "<table border=\"1\" class=\"dataframe\">\n",
       "  <thead>\n",
       "    <tr style=\"text-align: right;\">\n",
       "      <th></th>\n",
       "      <th></th>\n",
       "      <th></th>\n",
       "      <th></th>\n",
       "      <th>PRICE</th>\n",
       "    </tr>\n",
       "    <tr>\n",
       "      <th>SOURCE</th>\n",
       "      <th>COUNTRY</th>\n",
       "      <th>SEX</th>\n",
       "      <th>AGE</th>\n",
       "      <th></th>\n",
       "    </tr>\n",
       "  </thead>\n",
       "  <tbody>\n",
       "    <tr>\n",
       "      <th rowspan=\"5\" valign=\"top\">android</th>\n",
       "      <th rowspan=\"5\" valign=\"top\">bra</th>\n",
       "      <th rowspan=\"5\" valign=\"top\">female</th>\n",
       "      <th>15</th>\n",
       "      <td>38.714286</td>\n",
       "    </tr>\n",
       "    <tr>\n",
       "      <th>16</th>\n",
       "      <td>35.944444</td>\n",
       "    </tr>\n",
       "    <tr>\n",
       "      <th>17</th>\n",
       "      <td>35.666667</td>\n",
       "    </tr>\n",
       "    <tr>\n",
       "      <th>18</th>\n",
       "      <td>32.255814</td>\n",
       "    </tr>\n",
       "    <tr>\n",
       "      <th>19</th>\n",
       "      <td>35.206897</td>\n",
       "    </tr>\n",
       "  </tbody>\n",
       "</table>\n",
       "</div>"
      ],
      "text/plain": [
       "                                PRICE\n",
       "SOURCE  COUNTRY SEX    AGE           \n",
       "android bra     female 15   38.714286\n",
       "                       16   35.944444\n",
       "                       17   35.666667\n",
       "                       18   32.255814\n",
       "                       19   35.206897"
      ]
     },
     "execution_count": 201,
     "metadata": {},
     "output_type": "execute_result"
    }
   ],
   "source": [
    "agg_df = df.groupby([\"SOURCE\", \"COUNTRY\", \"SEX\" , \"AGE\"]).agg({\"PRICE\" : \"mean\"})\n",
    "agg_df.head(5)"
   ]
  },
  {
   "cell_type": "markdown",
   "id": "40f3325a-d349-4a0a-b311-1cbdcf0decfa",
   "metadata": {},
   "source": [
    "Görev 3: Çıktıyı PRICE’a göre sıralayınız."
   ]
  },
  {
   "cell_type": "code",
   "execution_count": 202,
   "id": "2f42f6e5-5113-45b9-bc91-cd96ccdde9f4",
   "metadata": {},
   "outputs": [
    {
     "data": {
      "text/html": [
       "<div>\n",
       "<style scoped>\n",
       "    .dataframe tbody tr th:only-of-type {\n",
       "        vertical-align: middle;\n",
       "    }\n",
       "\n",
       "    .dataframe tbody tr th {\n",
       "        vertical-align: top;\n",
       "    }\n",
       "\n",
       "    .dataframe thead th {\n",
       "        text-align: right;\n",
       "    }\n",
       "</style>\n",
       "<table border=\"1\" class=\"dataframe\">\n",
       "  <thead>\n",
       "    <tr style=\"text-align: right;\">\n",
       "      <th></th>\n",
       "      <th></th>\n",
       "      <th></th>\n",
       "      <th></th>\n",
       "      <th>PRICE</th>\n",
       "    </tr>\n",
       "    <tr>\n",
       "      <th>SOURCE</th>\n",
       "      <th>COUNTRY</th>\n",
       "      <th>SEX</th>\n",
       "      <th>AGE</th>\n",
       "      <th></th>\n",
       "    </tr>\n",
       "  </thead>\n",
       "  <tbody>\n",
       "    <tr>\n",
       "      <th rowspan=\"3\" valign=\"top\">android</th>\n",
       "      <th>bra</th>\n",
       "      <th>male</th>\n",
       "      <th>46</th>\n",
       "      <td>59.0</td>\n",
       "    </tr>\n",
       "    <tr>\n",
       "      <th>fra</th>\n",
       "      <th>female</th>\n",
       "      <th>24</th>\n",
       "      <td>59.0</td>\n",
       "    </tr>\n",
       "    <tr>\n",
       "      <th>usa</th>\n",
       "      <th>male</th>\n",
       "      <th>36</th>\n",
       "      <td>59.0</td>\n",
       "    </tr>\n",
       "    <tr>\n",
       "      <th rowspan=\"2\" valign=\"top\">ios</th>\n",
       "      <th>usa</th>\n",
       "      <th>male</th>\n",
       "      <th>32</th>\n",
       "      <td>54.0</td>\n",
       "    </tr>\n",
       "    <tr>\n",
       "      <th>deu</th>\n",
       "      <th>male</th>\n",
       "      <th>20</th>\n",
       "      <td>49.0</td>\n",
       "    </tr>\n",
       "  </tbody>\n",
       "</table>\n",
       "</div>"
      ],
      "text/plain": [
       "                            PRICE\n",
       "SOURCE  COUNTRY SEX    AGE       \n",
       "android bra     male   46    59.0\n",
       "        fra     female 24    59.0\n",
       "        usa     male   36    59.0\n",
       "ios     usa     male   32    54.0\n",
       "        deu     male   20    49.0"
      ]
     },
     "execution_count": 202,
     "metadata": {},
     "output_type": "execute_result"
    }
   ],
   "source": [
    "agg_df['PRICE'] = pd.to_numeric(agg_df['PRICE'], errors='coerce')\n",
    "agg_df = agg_df.sort_values(by='PRICE', ascending=False)\n",
    "agg_df.head(5)\n"
   ]
  },
  {
   "cell_type": "markdown",
   "id": "35da97db-2f76-4daf-bd57-344e5d767c4b",
   "metadata": {},
   "source": [
    "Görev 4: Indekste yer alan isimleri değişken ismine çeviriniz."
   ]
  },
  {
   "cell_type": "code",
   "execution_count": 203,
   "id": "f1ffc1b7-de80-4b0c-a138-3ef7b9d7a6bc",
   "metadata": {},
   "outputs": [
    {
     "data": {
      "text/html": [
       "<div>\n",
       "<style scoped>\n",
       "    .dataframe tbody tr th:only-of-type {\n",
       "        vertical-align: middle;\n",
       "    }\n",
       "\n",
       "    .dataframe tbody tr th {\n",
       "        vertical-align: top;\n",
       "    }\n",
       "\n",
       "    .dataframe thead th {\n",
       "        text-align: right;\n",
       "    }\n",
       "</style>\n",
       "<table border=\"1\" class=\"dataframe\">\n",
       "  <thead>\n",
       "    <tr style=\"text-align: right;\">\n",
       "      <th></th>\n",
       "      <th>SOURCE</th>\n",
       "      <th>COUNTRY</th>\n",
       "      <th>SEX</th>\n",
       "      <th>AGE</th>\n",
       "      <th>PRICE</th>\n",
       "    </tr>\n",
       "  </thead>\n",
       "  <tbody>\n",
       "    <tr>\n",
       "      <th>0</th>\n",
       "      <td>android</td>\n",
       "      <td>bra</td>\n",
       "      <td>male</td>\n",
       "      <td>46</td>\n",
       "      <td>59.0</td>\n",
       "    </tr>\n",
       "    <tr>\n",
       "      <th>1</th>\n",
       "      <td>android</td>\n",
       "      <td>fra</td>\n",
       "      <td>female</td>\n",
       "      <td>24</td>\n",
       "      <td>59.0</td>\n",
       "    </tr>\n",
       "    <tr>\n",
       "      <th>2</th>\n",
       "      <td>android</td>\n",
       "      <td>usa</td>\n",
       "      <td>male</td>\n",
       "      <td>36</td>\n",
       "      <td>59.0</td>\n",
       "    </tr>\n",
       "    <tr>\n",
       "      <th>3</th>\n",
       "      <td>ios</td>\n",
       "      <td>usa</td>\n",
       "      <td>male</td>\n",
       "      <td>32</td>\n",
       "      <td>54.0</td>\n",
       "    </tr>\n",
       "    <tr>\n",
       "      <th>4</th>\n",
       "      <td>ios</td>\n",
       "      <td>deu</td>\n",
       "      <td>male</td>\n",
       "      <td>20</td>\n",
       "      <td>49.0</td>\n",
       "    </tr>\n",
       "  </tbody>\n",
       "</table>\n",
       "</div>"
      ],
      "text/plain": [
       "    SOURCE COUNTRY     SEX  AGE  PRICE\n",
       "0  android     bra    male   46   59.0\n",
       "1  android     fra  female   24   59.0\n",
       "2  android     usa    male   36   59.0\n",
       "3      ios     usa    male   32   54.0\n",
       "4      ios     deu    male   20   49.0"
      ]
     },
     "execution_count": 203,
     "metadata": {},
     "output_type": "execute_result"
    }
   ],
   "source": [
    "agg_df = agg_df.reset_index()\n",
    "agg_df.head(5)"
   ]
  },
  {
   "cell_type": "markdown",
   "id": "48660e5a-c56c-4642-8058-6c0950022cdd",
   "metadata": {},
   "source": [
    "Görev 5: Age değişkenini kategorik değişkene çeviriniz ve agg_df’e ekleyiniz."
   ]
  },
  {
   "cell_type": "code",
   "execution_count": 204,
   "id": "18892fb8-3aa6-4645-a2fc-a1b8b0d11fc0",
   "metadata": {},
   "outputs": [
    {
     "data": {
      "text/html": [
       "<div>\n",
       "<style scoped>\n",
       "    .dataframe tbody tr th:only-of-type {\n",
       "        vertical-align: middle;\n",
       "    }\n",
       "\n",
       "    .dataframe tbody tr th {\n",
       "        vertical-align: top;\n",
       "    }\n",
       "\n",
       "    .dataframe thead th {\n",
       "        text-align: right;\n",
       "    }\n",
       "</style>\n",
       "<table border=\"1\" class=\"dataframe\">\n",
       "  <thead>\n",
       "    <tr style=\"text-align: right;\">\n",
       "      <th></th>\n",
       "      <th>SOURCE</th>\n",
       "      <th>COUNTRY</th>\n",
       "      <th>SEX</th>\n",
       "      <th>AGE</th>\n",
       "      <th>PRICE</th>\n",
       "      <th>AGE_CAT</th>\n",
       "    </tr>\n",
       "  </thead>\n",
       "  <tbody>\n",
       "    <tr>\n",
       "      <th>0</th>\n",
       "      <td>android</td>\n",
       "      <td>bra</td>\n",
       "      <td>male</td>\n",
       "      <td>46</td>\n",
       "      <td>59.000000</td>\n",
       "      <td>0-18</td>\n",
       "    </tr>\n",
       "    <tr>\n",
       "      <th>1</th>\n",
       "      <td>android</td>\n",
       "      <td>fra</td>\n",
       "      <td>female</td>\n",
       "      <td>24</td>\n",
       "      <td>59.000000</td>\n",
       "      <td>0-18</td>\n",
       "    </tr>\n",
       "    <tr>\n",
       "      <th>2</th>\n",
       "      <td>android</td>\n",
       "      <td>usa</td>\n",
       "      <td>male</td>\n",
       "      <td>36</td>\n",
       "      <td>59.000000</td>\n",
       "      <td>0-18</td>\n",
       "    </tr>\n",
       "    <tr>\n",
       "      <th>3</th>\n",
       "      <td>ios</td>\n",
       "      <td>usa</td>\n",
       "      <td>male</td>\n",
       "      <td>32</td>\n",
       "      <td>54.000000</td>\n",
       "      <td>0-18</td>\n",
       "    </tr>\n",
       "    <tr>\n",
       "      <th>4</th>\n",
       "      <td>ios</td>\n",
       "      <td>deu</td>\n",
       "      <td>male</td>\n",
       "      <td>20</td>\n",
       "      <td>49.000000</td>\n",
       "      <td>0-18</td>\n",
       "    </tr>\n",
       "    <tr>\n",
       "      <th>5</th>\n",
       "      <td>android</td>\n",
       "      <td>deu</td>\n",
       "      <td>female</td>\n",
       "      <td>51</td>\n",
       "      <td>49.000000</td>\n",
       "      <td>0-18</td>\n",
       "    </tr>\n",
       "    <tr>\n",
       "      <th>6</th>\n",
       "      <td>android</td>\n",
       "      <td>usa</td>\n",
       "      <td>female</td>\n",
       "      <td>47</td>\n",
       "      <td>49.000000</td>\n",
       "      <td>0-18</td>\n",
       "    </tr>\n",
       "    <tr>\n",
       "      <th>7</th>\n",
       "      <td>ios</td>\n",
       "      <td>fra</td>\n",
       "      <td>male</td>\n",
       "      <td>20</td>\n",
       "      <td>49.000000</td>\n",
       "      <td>0-18</td>\n",
       "    </tr>\n",
       "    <tr>\n",
       "      <th>8</th>\n",
       "      <td>android</td>\n",
       "      <td>deu</td>\n",
       "      <td>female</td>\n",
       "      <td>36</td>\n",
       "      <td>49.000000</td>\n",
       "      <td>0-18</td>\n",
       "    </tr>\n",
       "    <tr>\n",
       "      <th>9</th>\n",
       "      <td>ios</td>\n",
       "      <td>usa</td>\n",
       "      <td>male</td>\n",
       "      <td>59</td>\n",
       "      <td>46.500000</td>\n",
       "      <td>0-18</td>\n",
       "    </tr>\n",
       "    <tr>\n",
       "      <th>10</th>\n",
       "      <td>android</td>\n",
       "      <td>deu</td>\n",
       "      <td>male</td>\n",
       "      <td>15</td>\n",
       "      <td>46.500000</td>\n",
       "      <td>0-18</td>\n",
       "    </tr>\n",
       "    <tr>\n",
       "      <th>11</th>\n",
       "      <td>android</td>\n",
       "      <td>usa</td>\n",
       "      <td>female</td>\n",
       "      <td>61</td>\n",
       "      <td>45.666667</td>\n",
       "      <td>0-18</td>\n",
       "    </tr>\n",
       "    <tr>\n",
       "      <th>12</th>\n",
       "      <td>android</td>\n",
       "      <td>bra</td>\n",
       "      <td>female</td>\n",
       "      <td>30</td>\n",
       "      <td>45.666667</td>\n",
       "      <td>0-18</td>\n",
       "    </tr>\n",
       "    <tr>\n",
       "      <th>13</th>\n",
       "      <td>android</td>\n",
       "      <td>deu</td>\n",
       "      <td>male</td>\n",
       "      <td>34</td>\n",
       "      <td>45.000000</td>\n",
       "      <td>0-18</td>\n",
       "    </tr>\n",
       "    <tr>\n",
       "      <th>14</th>\n",
       "      <td>ios</td>\n",
       "      <td>tur</td>\n",
       "      <td>male</td>\n",
       "      <td>24</td>\n",
       "      <td>45.000000</td>\n",
       "      <td>0-18</td>\n",
       "    </tr>\n",
       "    <tr>\n",
       "      <th>15</th>\n",
       "      <td>ios</td>\n",
       "      <td>bra</td>\n",
       "      <td>female</td>\n",
       "      <td>22</td>\n",
       "      <td>44.000000</td>\n",
       "      <td>0-18</td>\n",
       "    </tr>\n",
       "    <tr>\n",
       "      <th>16</th>\n",
       "      <td>ios</td>\n",
       "      <td>tur</td>\n",
       "      <td>female</td>\n",
       "      <td>18</td>\n",
       "      <td>44.000000</td>\n",
       "      <td>0-18</td>\n",
       "    </tr>\n",
       "    <tr>\n",
       "      <th>17</th>\n",
       "      <td>android</td>\n",
       "      <td>bra</td>\n",
       "      <td>female</td>\n",
       "      <td>43</td>\n",
       "      <td>44.000000</td>\n",
       "      <td>24-30</td>\n",
       "    </tr>\n",
       "    <tr>\n",
       "      <th>18</th>\n",
       "      <td>android</td>\n",
       "      <td>tur</td>\n",
       "      <td>female</td>\n",
       "      <td>32</td>\n",
       "      <td>43.000000</td>\n",
       "      <td>24-30</td>\n",
       "    </tr>\n",
       "    <tr>\n",
       "      <th>19</th>\n",
       "      <td>android</td>\n",
       "      <td>bra</td>\n",
       "      <td>female</td>\n",
       "      <td>39</td>\n",
       "      <td>43.000000</td>\n",
       "      <td>24-30</td>\n",
       "    </tr>\n",
       "  </tbody>\n",
       "</table>\n",
       "</div>"
      ],
      "text/plain": [
       "     SOURCE COUNTRY     SEX  AGE      PRICE AGE_CAT\n",
       "0   android     bra    male   46  59.000000    0-18\n",
       "1   android     fra  female   24  59.000000    0-18\n",
       "2   android     usa    male   36  59.000000    0-18\n",
       "3       ios     usa    male   32  54.000000    0-18\n",
       "4       ios     deu    male   20  49.000000    0-18\n",
       "5   android     deu  female   51  49.000000    0-18\n",
       "6   android     usa  female   47  49.000000    0-18\n",
       "7       ios     fra    male   20  49.000000    0-18\n",
       "8   android     deu  female   36  49.000000    0-18\n",
       "9       ios     usa    male   59  46.500000    0-18\n",
       "10  android     deu    male   15  46.500000    0-18\n",
       "11  android     usa  female   61  45.666667    0-18\n",
       "12  android     bra  female   30  45.666667    0-18\n",
       "13  android     deu    male   34  45.000000    0-18\n",
       "14      ios     tur    male   24  45.000000    0-18\n",
       "15      ios     bra  female   22  44.000000    0-18\n",
       "16      ios     tur  female   18  44.000000    0-18\n",
       "17  android     bra  female   43  44.000000   24-30\n",
       "18  android     tur  female   32  43.000000   24-30\n",
       "19  android     bra  female   39  43.000000   24-30"
      ]
     },
     "execution_count": 204,
     "metadata": {},
     "output_type": "execute_result"
    }
   ],
   "source": [
    "bins = [0, 18, 23, 30, 40, agg_df['AGE'].max()]\n",
    "labels = [\"0-18\",\"19-23\",\"24-30\",\"31-40\", \"41-\" + str(df[\"AGE\"].max())]\n",
    "agg_df[\"AGE_CAT\"] = pd.cut(df[\"AGE\"] , bins = bins, labels = labels)\n",
    "agg_df.head(20)"
   ]
  },
  {
   "cell_type": "markdown",
   "id": "008d767d-9c73-48b2-9e73-a4283b044447",
   "metadata": {},
   "source": [
    "Görev 6: Yeni seviye tabanlı müşterileri (persona) tanımlayınız."
   ]
  },
  {
   "cell_type": "code",
   "execution_count": 205,
   "id": "2a85c2f2-42e7-4a99-b899-5ef9c6d7bb1a",
   "metadata": {},
   "outputs": [
    {
     "data": {
      "text/html": [
       "<div>\n",
       "<style scoped>\n",
       "    .dataframe tbody tr th:only-of-type {\n",
       "        vertical-align: middle;\n",
       "    }\n",
       "\n",
       "    .dataframe tbody tr th {\n",
       "        vertical-align: top;\n",
       "    }\n",
       "\n",
       "    .dataframe thead th {\n",
       "        text-align: right;\n",
       "    }\n",
       "</style>\n",
       "<table border=\"1\" class=\"dataframe\">\n",
       "  <thead>\n",
       "    <tr style=\"text-align: right;\">\n",
       "      <th></th>\n",
       "      <th>customers_level_based</th>\n",
       "      <th>PRICE</th>\n",
       "    </tr>\n",
       "  </thead>\n",
       "  <tbody>\n",
       "    <tr>\n",
       "      <th>0</th>\n",
       "      <td>ANDROID_BRA_MALE_0-18</td>\n",
       "      <td>59.0</td>\n",
       "    </tr>\n",
       "    <tr>\n",
       "      <th>1</th>\n",
       "      <td>ANDROID_FRA_FEMALE_0-18</td>\n",
       "      <td>59.0</td>\n",
       "    </tr>\n",
       "    <tr>\n",
       "      <th>2</th>\n",
       "      <td>ANDROID_USA_MALE_0-18</td>\n",
       "      <td>59.0</td>\n",
       "    </tr>\n",
       "    <tr>\n",
       "      <th>3</th>\n",
       "      <td>IOS_USA_MALE_0-18</td>\n",
       "      <td>54.0</td>\n",
       "    </tr>\n",
       "    <tr>\n",
       "      <th>4</th>\n",
       "      <td>IOS_DEU_MALE_0-18</td>\n",
       "      <td>49.0</td>\n",
       "    </tr>\n",
       "  </tbody>\n",
       "</table>\n",
       "</div>"
      ],
      "text/plain": [
       "     customers_level_based  PRICE\n",
       "0    ANDROID_BRA_MALE_0-18   59.0\n",
       "1  ANDROID_FRA_FEMALE_0-18   59.0\n",
       "2    ANDROID_USA_MALE_0-18   59.0\n",
       "3        IOS_USA_MALE_0-18   54.0\n",
       "4        IOS_DEU_MALE_0-18   49.0"
      ]
     },
     "execution_count": 205,
     "metadata": {},
     "output_type": "execute_result"
    }
   ],
   "source": [
    "agg_df[\"customers_level_based\"] = [row[0].upper() + \"_\" + row[1].upper() + \"_\" +  row[2].upper() + \"_\" + row[5].upper() for row in agg_df.values]\n",
    "agg_df = agg_df[[\"customers_level_based\", \"PRICE\"]]\n",
    "agg_df.groupby(\"customers_level_based\").agg({\"PRICE\": \"mean\"})\n",
    "agg_df.head(5)\n",
    "\n",
    "\n"
   ]
  },
  {
   "cell_type": "markdown",
   "id": "cceacc6c-6f75-4763-91dc-2a301a03f5f2",
   "metadata": {},
   "source": [
    "Görev 7: Yeni müşterileri (personaları) segmentlere ayırınız."
   ]
  },
  {
   "cell_type": "code",
   "id": "0e538551-c8ab-4dc4-8420-389019e94799",
   "metadata": {},
   "source": [
    "agg_df[\"SEGMENT\"] = pd.qcut(agg_df[\"PRICE\"] , 4 , labels = [\"D\", \"C\", \"B\", \"A\"])\n",
    "agg_df.groupby(\"SEGMENT\").agg({\"PRICE\" : [\"mean\",\"sum\",\"max\"]})\n",
    "agg_df.head(5)"
   ],
   "outputs": [],
   "execution_count": null
  },
  {
   "cell_type": "markdown",
   "id": "948827ba-a293-4630-8928-78b13a4413da",
   "metadata": {},
   "source": [
    "Görev 8: Yeni gelen müşterileri sınıflandırıp, ne kadar gelir getirebileceklerini tahmin ediniz."
   ]
  },
  {
   "cell_type": "markdown",
   "id": "f8dd45b1-77e4-4d04-98a0-52542f8d785b",
   "metadata": {},
   "source": [
    "33 yaşında ANDROID kullanan bir Türk kadını hangi segmente aittir ve ortalama ne kadar gelir kazandırması beklenir?"
   ]
  },
  {
   "cell_type": "code",
   "execution_count": 207,
   "id": "32a907cd-5655-424f-9072-27cfe254edda",
   "metadata": {},
   "outputs": [
    {
     "data": {
      "text/html": [
       "<div>\n",
       "<style scoped>\n",
       "    .dataframe tbody tr th:only-of-type {\n",
       "        vertical-align: middle;\n",
       "    }\n",
       "\n",
       "    .dataframe tbody tr th {\n",
       "        vertical-align: top;\n",
       "    }\n",
       "\n",
       "    .dataframe thead th {\n",
       "        text-align: right;\n",
       "    }\n",
       "</style>\n",
       "<table border=\"1\" class=\"dataframe\">\n",
       "  <thead>\n",
       "    <tr style=\"text-align: right;\">\n",
       "      <th></th>\n",
       "      <th>customers_level_based</th>\n",
       "      <th>PRICE</th>\n",
       "      <th>SEGMENT</th>\n",
       "    </tr>\n",
       "  </thead>\n",
       "  <tbody>\n",
       "    <tr>\n",
       "      <th>267</th>\n",
       "      <td>ANDROID_TUR_FEMALE_31-40</td>\n",
       "      <td>31.0</td>\n",
       "      <td>D</td>\n",
       "    </tr>\n",
       "    <tr>\n",
       "      <th>333</th>\n",
       "      <td>ANDROID_TUR_FEMALE_31-40</td>\n",
       "      <td>24.0</td>\n",
       "      <td>D</td>\n",
       "    </tr>\n",
       "  </tbody>\n",
       "</table>\n",
       "</div>"
      ],
      "text/plain": [
       "        customers_level_based  PRICE SEGMENT\n",
       "267  ANDROID_TUR_FEMALE_31-40   31.0       D\n",
       "333  ANDROID_TUR_FEMALE_31-40   24.0       D"
      ]
     },
     "execution_count": 207,
     "metadata": {},
     "output_type": "execute_result"
    }
   ],
   "source": [
    "new_user = \"ANDROID_TUR_FEMALE_31-40\"\n",
    "agg_df[agg_df[\"customers_level_based\"] == new_user]\n"
   ]
  },
  {
   "cell_type": "markdown",
   "id": "7e5d2ae1-f82e-4a3c-a681-95cb09d63f43",
   "metadata": {},
   "source": [
    "35 yaşında IOS kullanan bir Fransız kadını hangi segmente aittir ve ortalama ne kadar gelir kazandırması beklenir?"
   ]
  },
  {
   "cell_type": "code",
   "execution_count": 208,
   "id": "565399c4-8734-451c-a193-f912d1750f6e",
   "metadata": {},
   "outputs": [
    {
     "data": {
      "text/html": [
       "<div>\n",
       "<style scoped>\n",
       "    .dataframe tbody tr th:only-of-type {\n",
       "        vertical-align: middle;\n",
       "    }\n",
       "\n",
       "    .dataframe tbody tr th {\n",
       "        vertical-align: top;\n",
       "    }\n",
       "\n",
       "    .dataframe thead th {\n",
       "        text-align: right;\n",
       "    }\n",
       "</style>\n",
       "<table border=\"1\" class=\"dataframe\">\n",
       "  <thead>\n",
       "    <tr style=\"text-align: right;\">\n",
       "      <th></th>\n",
       "      <th>customers_level_based</th>\n",
       "      <th>PRICE</th>\n",
       "      <th>SEGMENT</th>\n",
       "    </tr>\n",
       "  </thead>\n",
       "  <tbody>\n",
       "    <tr>\n",
       "      <th>208</th>\n",
       "      <td>IOS_FRA_FEMALE_31-40</td>\n",
       "      <td>33.0</td>\n",
       "      <td>C</td>\n",
       "    </tr>\n",
       "  </tbody>\n",
       "</table>\n",
       "</div>"
      ],
      "text/plain": [
       "    customers_level_based  PRICE SEGMENT\n",
       "208  IOS_FRA_FEMALE_31-40   33.0       C"
      ]
     },
     "execution_count": 208,
     "metadata": {},
     "output_type": "execute_result"
    }
   ],
   "source": [
    "new_user = \"IOS_FRA_FEMALE_31-40\"\n",
    "agg_df[agg_df[\"customers_level_based\"] == new_user]"
   ]
  }
 ],
 "metadata": {
  "kernelspec": {
   "display_name": "Python 3 (ipykernel)",
   "language": "python",
   "name": "python3"
  },
  "language_info": {
   "codemirror_mode": {
    "name": "ipython",
    "version": 3
   },
   "file_extension": ".py",
   "mimetype": "text/x-python",
   "name": "python",
   "nbconvert_exporter": "python",
   "pygments_lexer": "ipython3",
   "version": "3.12.6"
  }
 },
 "nbformat": 4,
 "nbformat_minor": 5
}
